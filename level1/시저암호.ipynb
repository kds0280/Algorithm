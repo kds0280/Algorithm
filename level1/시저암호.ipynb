{
 "cells": [
  {
   "cell_type": "code",
   "execution_count": null,
   "metadata": {},
   "outputs": [],
   "source": [
    "def solution(s, n):\n",
    "    s = list(s)\n",
    "    for i in range(len(s)):\n",
    "        if s[i].isupper():\n",
    "            s[i]=chr((ord(s[i])-ord('A')+ n)%26+ord('A'))\n",
    "        elif s[i].islower():\n",
    "            s[i]=chr((ord(s[i])-ord('a')+ n)%26+ord('a'))\n",
    "    return \"\".join(s)"
   ]
  }
 ],
 "metadata": {
  "kernelspec": {
   "display_name": "Python 3",
   "language": "python",
   "name": "python3"
  },
  "language_info": {
   "codemirror_mode": {
    "name": "ipython",
    "version": 3
   },
   "file_extension": ".py",
   "mimetype": "text/x-python",
   "name": "python",
   "nbconvert_exporter": "python",
   "pygments_lexer": "ipython3",
   "version": "3.8.5"
  }
 },
 "nbformat": 4,
 "nbformat_minor": 4
}
